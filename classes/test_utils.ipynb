{
 "cells": [
  {
   "cell_type": "markdown",
   "metadata": {},
   "source": [
    "# 测试各种类、工具、方法"
   ]
  },
  {
   "cell_type": "code",
   "execution_count": 3,
   "metadata": {},
   "outputs": [
    {
     "name": "stdout",
     "output_type": "stream",
     "text": [
      "{'board': {'row_num': 7, 'col_num': 14, 'r_idx': '1 2 3 4 5 6 7', 'col_a': '0 1 0 0 0 0 2', 'col_b': '4 0 0 2 2 0 0', 'col_c': '2 0 0 0 0 1 0', 'col_d': '4 0 0 2 0 0 0', 'col_e': '4 0 0 3 0 0 4', 'col_f': '4 4 0 0 3 0 0', 'col_g': '2 0 1 0 3 0 2', 'col_h': '4 4 0 0 2 0 0', 'col_i': '4 3 0 3 0 0 4', 'col_j': '4 4 0 3 1 0 4', 'col_k': '4 0 4 2 0 0 4', 'col_l': '4 0 0 4 4 0 0', 'col_m': '0 0 0 0 0 0 0', 'col_n': '0 0 1 0 0 1 0', 'c_idx': 'A B C D E F G H I J K L M N', 'col_1': '0 4 2 4 4 4 2 4 4 4 4 4 0 0', 'col_2': '1 0 0 0 0 4 0 4 3 4 0 0 0 0', 'col_3': '0 0 0 0 0 0 1 0 0 0 4 0 0 1', 'col_4': '0 2 0 2 3 0 0 0 3 3 2 4 0 0', 'col_5': '0 2 0 0 0 3 3 2 0 1 0 4 0 0', 'col_6': '0 0 1 0 0 0 0 0 0 0 0 0 0 1', 'col_7': '2 0 0 0 4 0 2 0 4 4 4 0 0 0', 'border_river': 'D2-6 E3-6', 'red_initial_vision': 'A1 A2 A3 B2 B3 B6 B7  C5 C6 C7 D6 D7 F3 F4  G2 G3 G4 H3 H4 I5 J5 K5', 'blue_initial_vision': 'M1 M2 M3 M4 M5 M6 M7 N1 N2 N3 N4 N5 N6 N7', 'odd_col_minus_even': 1}}\n",
      "{'row_num': 7, 'col_num': 14, 'r_idx': '1 2 3 4 5 6 7', 'col_a': '0 1 0 0 0 0 2', 'col_b': '4 0 0 2 2 0 0', 'col_c': '2 0 0 0 0 1 0', 'col_d': '4 0 0 2 0 0 0', 'col_e': '4 0 0 3 0 0 4', 'col_f': '4 4 0 0 3 0 0', 'col_g': '2 0 1 0 3 0 2', 'col_h': '4 4 0 0 2 0 0', 'col_i': '4 3 0 3 0 0 4', 'col_j': '4 4 0 3 1 0 4', 'col_k': '4 0 4 2 0 0 4', 'col_l': '4 0 0 4 4 0 0', 'col_m': '0 0 0 0 0 0 0', 'col_n': '0 0 1 0 0 1 0', 'c_idx': 'A B C D E F G H I J K L M N', 'col_1': '0 4 2 4 4 4 2 4 4 4 4 4 0 0', 'col_2': '1 0 0 0 0 4 0 4 3 4 0 0 0 0', 'col_3': '0 0 0 0 0 0 1 0 0 0 4 0 0 1', 'col_4': '0 2 0 2 3 0 0 0 3 3 2 4 0 0', 'col_5': '0 2 0 0 0 3 3 2 0 1 0 4 0 0', 'col_6': '0 0 1 0 0 0 0 0 0 0 0 0 0 1', 'col_7': '2 0 0 0 4 0 2 0 4 4 4 0 0 0', 'border_river': 'D2-6 E3-6', 'red_initial_vision': 'A1 A2 A3 B2 B3 B6 B7  C5 C6 C7 D6 D7 F3 F4  G2 G3 G4 H3 H4 I5 J5 K5', 'blue_initial_vision': 'M1 M2 M3 M4 M5 M6 M7 N1 N2 N3 N4 N5 N6 N7', 'odd_col_minus_even': 1}\n"
     ]
    },
    {
     "ename": "KeyError",
     "evalue": "'red_initial_vision'",
     "output_type": "error",
     "traceback": [
      "\u001b[0;31m---------------------------------------------------------------------------\u001b[0m",
      "\u001b[0;31mKeyError\u001b[0m                                  Traceback (most recent call last)",
      "Cell \u001b[0;32mIn[3], line 3\u001b[0m\n\u001b[1;32m      1\u001b[0m \u001b[38;5;66;03m# import sys\u001b[39;00m\n\u001b[1;32m      2\u001b[0m \u001b[38;5;66;03m# sys.path.append(\"utils\")\u001b[39;00m\n\u001b[0;32m----> 3\u001b[0m \u001b[38;5;28;01mimport\u001b[39;00m \u001b[38;5;21;01mutils\u001b[39;00m\u001b[38;5;21;01m.\u001b[39;00m\u001b[38;5;21;01mconstants\u001b[39;00m \u001b[38;5;28;01mas\u001b[39;00m \u001b[38;5;21;01mConstants\u001b[39;00m\n\u001b[1;32m      4\u001b[0m \u001b[38;5;28;01mimport\u001b[39;00m \u001b[38;5;21;01mimportlib\u001b[39;00m\n\u001b[1;32m      5\u001b[0m importlib\u001b[38;5;241m.\u001b[39mreload(Constants)\n",
      "File \u001b[0;32m~/Desktop/SYZ_Folder/兵棋/BattleSimulatorX/utils/constants.py:11\u001b[0m\n\u001b[1;32m      8\u001b[0m \u001b[38;5;28mprint\u001b[39m(ConstDefaultProfiles)\n\u001b[1;32m     10\u001b[0m \u001b[38;5;28;01mif\u001b[39;00m \u001b[38;5;124m\"\u001b[39m\u001b[38;5;124mConstants\u001b[39m\u001b[38;5;124m\"\u001b[39m:\n\u001b[0;32m---> 11\u001b[0m     \u001b[38;5;28;01mclass\u001b[39;00m \u001b[38;5;21;01mBoardCst\u001b[39;00m:\n\u001b[1;32m     12\u001b[0m         BOARD_CONSTANTS \u001b[38;5;241m=\u001b[39m get_board_default_dict(ConstDefaultProfiles)\n\u001b[1;32m     13\u001b[0m         \u001b[38;5;28mprint\u001b[39m(BOARD_CONSTANTS)\n",
      "File \u001b[0;32m~/Desktop/SYZ_Folder/兵棋/BattleSimulatorX/utils/constants.py:17\u001b[0m, in \u001b[0;36mBoardCst\u001b[0;34m()\u001b[0m\n\u001b[1;32m     15\u001b[0m COL_NUM \u001b[38;5;241m=\u001b[39m BOARD_CONSTANTS[\u001b[38;5;124m\"\u001b[39m\u001b[38;5;124mcol_num\u001b[39m\u001b[38;5;124m\"\u001b[39m]\n\u001b[1;32m     16\u001b[0m INITIAL_VISION \u001b[38;5;241m=\u001b[39m get_initial_vision_list(ConstDefaultProfiles)\n\u001b[0;32m---> 17\u001b[0m RED_INIT_VISION \u001b[38;5;241m=\u001b[39m \u001b[43mINITIAL_VISION\u001b[49m\u001b[43m[\u001b[49m\u001b[38;5;124;43m\"\u001b[39;49m\u001b[38;5;124;43mred_initial_vision\u001b[39;49m\u001b[38;5;124;43m\"\u001b[39;49m\u001b[43m]\u001b[49m\n\u001b[1;32m     18\u001b[0m BLUE_INIT_VISION \u001b[38;5;241m=\u001b[39m INITIAL_VISION[\u001b[38;5;124m\"\u001b[39m\u001b[38;5;124mblue_initial_vision\u001b[39m\u001b[38;5;124m\"\u001b[39m]\n\u001b[1;32m     19\u001b[0m RIVER_BOARD \u001b[38;5;241m=\u001b[39m BOARD_CONSTANTS[\u001b[38;5;124m\"\u001b[39m\u001b[38;5;124mborder_river\u001b[39m\u001b[38;5;124m\"\u001b[39m]\n",
      "\u001b[0;31mKeyError\u001b[0m: 'red_initial_vision'"
     ]
    }
   ],
   "source": [
    "# import sys\n",
    "# sys.path.append(\"utils\")\n",
    "import utils.constants as Constants\n",
    "import importlib\n",
    "importlib.reload(Constants)\n",
    "Constants.coordinate_to_tuple(\"A1\")"
   ]
  }
 ],
 "metadata": {
  "kernelspec": {
   "display_name": "shuiyuanzhi_llm",
   "language": "python",
   "name": "python3"
  },
  "language_info": {
   "codemirror_mode": {
    "name": "ipython",
    "version": 3
   },
   "file_extension": ".py",
   "mimetype": "text/x-python",
   "name": "python",
   "nbconvert_exporter": "python",
   "pygments_lexer": "ipython3",
   "version": "3.9.6"
  }
 },
 "nbformat": 4,
 "nbformat_minor": 2
}

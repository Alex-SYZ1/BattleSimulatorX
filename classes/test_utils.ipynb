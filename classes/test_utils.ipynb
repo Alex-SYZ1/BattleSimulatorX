{
 "cells": [
  {
   "cell_type": "markdown",
   "metadata": {},
   "source": [
    "# 测试各种类、工具、方法"
   ]
  },
  {
   "cell_type": "code",
   "execution_count": 5,
   "metadata": {},
   "outputs": [
    {
     "name": "stdout",
     "output_type": "stream",
     "text": [
      "{'board': {'row_num': 7, 'col_num': 14, 'r_idx': '1 2 3 4 5 6 7', 'col_a': '0 1 0 0 0 0 2', 'col_b': '4 0 0 2 2 0 0', 'col_c': '2 0 0 0 0 1 0', 'col_d': '4 0 0 2 0 0 0', 'col_e': '4 0 0 3 0 0 4', 'col_f': '4 4 0 0 3 0 0', 'col_g': '2 0 1 0 3 0 2', 'col_h': '4 4 0 0 2 0 0', 'col_i': '4 3 0 3 0 0 4', 'col_j': '4 4 0 3 1 0 4', 'col_k': '4 0 4 2 0 0 4', 'col_l': '4 0 0 4 4 0 0', 'col_m': '0 0 0 0 0 0 0', 'col_n': '0 0 1 0 0 1 0', 'c_idx': 'A B C D E F G H I J K L M N', 'col_1': '0 4 2 4 4 4 2 4 4 4 4 4 0 0', 'col_2': '1 0 0 0 0 4 0 4 3 4 0 0 0 0', 'col_3': '0 0 0 0 0 0 1 0 0 0 4 0 0 1', 'col_4': '0 2 0 2 3 0 0 0 3 3 2 4 0 0', 'col_5': '0 2 0 0 0 3 3 2 0 1 0 4 0 0', 'col_6': '0 0 1 0 0 0 0 0 0 0 0 0 0 1', 'col_7': '2 0 0 0 4 0 2 0 4 4 4 0 0 0', 'border_river': 'D2-6 E3-6', 'red_initial_vision': 'A1 A2 A3 B2 B3 B6 B7  C5 C6 C7 D6 D7 F3 F4  G2 G3 G4 H3 H4 I5 J5 K5', 'blue_initial_vision': 'M1 M2 M3 M4 M5 M6 M7 N1 N2 N3 N4 N5 N6 N7', 'odd_col_minus_even': 1}}\n",
      "{'row_num': 7, 'col_num': 14, 'r_idx': '1 2 3 4 5 6 7', 'col_a': '0 1 0 0 0 0 2', 'col_b': '4 0 0 2 2 0 0', 'col_c': '2 0 0 0 0 1 0', 'col_d': '4 0 0 2 0 0 0', 'col_e': '4 0 0 3 0 0 4', 'col_f': '4 4 0 0 3 0 0', 'col_g': '2 0 1 0 3 0 2', 'col_h': '4 4 0 0 2 0 0', 'col_i': '4 3 0 3 0 0 4', 'col_j': '4 4 0 3 1 0 4', 'col_k': '4 0 4 2 0 0 4', 'col_l': '4 0 0 4 4 0 0', 'col_m': '0 0 0 0 0 0 0', 'col_n': '0 0 1 0 0 1 0', 'c_idx': 'A B C D E F G H I J K L M N', 'col_1': '0 4 2 4 4 4 2 4 4 4 4 4 0 0', 'col_2': '1 0 0 0 0 4 0 4 3 4 0 0 0 0', 'col_3': '0 0 0 0 0 0 1 0 0 0 4 0 0 1', 'col_4': '0 2 0 2 3 0 0 0 3 3 2 4 0 0', 'col_5': '0 2 0 0 0 3 3 2 0 1 0 4 0 0', 'col_6': '0 0 1 0 0 0 0 0 0 0 0 0 0 1', 'col_7': '2 0 0 0 4 0 2 0 4 4 4 0 0 0', 'border_river': 'D2-6 E3-6', 'red_initial_vision': 'A1 A2 A3 B2 B3 B6 B7  C5 C6 C7 D6 D7 F3 F4  G2 G3 G4 H3 H4 I5 J5 K5', 'blue_initial_vision': 'M1 M2 M3 M4 M5 M6 M7 N1 N2 N3 N4 N5 N6 N7', 'odd_col_minus_even': 1}\n",
      "{'board': {'row_num': 7, 'col_num': 14, 'r_idx': '1 2 3 4 5 6 7', 'col_a': '0 1 0 0 0 0 2', 'col_b': '4 0 0 2 2 0 0', 'col_c': '2 0 0 0 0 1 0', 'col_d': '4 0 0 2 0 0 0', 'col_e': '4 0 0 3 0 0 4', 'col_f': '4 4 0 0 3 0 0', 'col_g': '2 0 1 0 3 0 2', 'col_h': '4 4 0 0 2 0 0', 'col_i': '4 3 0 3 0 0 4', 'col_j': '4 4 0 3 1 0 4', 'col_k': '4 0 4 2 0 0 4', 'col_l': '4 0 0 4 4 0 0', 'col_m': '0 0 0 0 0 0 0', 'col_n': '0 0 1 0 0 1 0', 'c_idx': 'A B C D E F G H I J K L M N', 'col_1': '0 4 2 4 4 4 2 4 4 4 4 4 0 0', 'col_2': '1 0 0 0 0 4 0 4 3 4 0 0 0 0', 'col_3': '0 0 0 0 0 0 1 0 0 0 4 0 0 1', 'col_4': '0 2 0 2 3 0 0 0 3 3 2 4 0 0', 'col_5': '0 2 0 0 0 3 3 2 0 1 0 4 0 0', 'col_6': '0 0 1 0 0 0 0 0 0 0 0 0 0 1', 'col_7': '2 0 0 0 4 0 2 0 4 4 4 0 0 0', 'border_river': 'D2-6 E3-6', 'red_initial_vision': 'A1 A2 A3 B2 B3 B6 B7  C5 C6 C7 D6 D7 F3 F4  G2 G3 G4 H3 H4 I5 J5 K5', 'blue_initial_vision': 'M1 M2 M3 M4 M5 M6 M7 N1 N2 N3 N4 N5 N6 N7', 'odd_col_minus_even': 1}}\n",
      "{'row_num': 7, 'col_num': 14, 'r_idx': '1 2 3 4 5 6 7', 'col_a': '0 1 0 0 0 0 2', 'col_b': '4 0 0 2 2 0 0', 'col_c': '2 0 0 0 0 1 0', 'col_d': '4 0 0 2 0 0 0', 'col_e': '4 0 0 3 0 0 4', 'col_f': '4 4 0 0 3 0 0', 'col_g': '2 0 1 0 3 0 2', 'col_h': '4 4 0 0 2 0 0', 'col_i': '4 3 0 3 0 0 4', 'col_j': '4 4 0 3 1 0 4', 'col_k': '4 0 4 2 0 0 4', 'col_l': '4 0 0 4 4 0 0', 'col_m': '0 0 0 0 0 0 0', 'col_n': '0 0 1 0 0 1 0', 'c_idx': 'A B C D E F G H I J K L M N', 'col_1': '0 4 2 4 4 4 2 4 4 4 4 4 0 0', 'col_2': '1 0 0 0 0 4 0 4 3 4 0 0 0 0', 'col_3': '0 0 0 0 0 0 1 0 0 0 4 0 0 1', 'col_4': '0 2 0 2 3 0 0 0 3 3 2 4 0 0', 'col_5': '0 2 0 0 0 3 3 2 0 1 0 4 0 0', 'col_6': '0 0 1 0 0 0 0 0 0 0 0 0 0 1', 'col_7': '2 0 0 0 4 0 2 0 4 4 4 0 0 0', 'border_river': 'D2-6 E3-6', 'red_initial_vision': 'A1 A2 A3 B2 B3 B6 B7  C5 C6 C7 D6 D7 F3 F4  G2 G3 G4 H3 H4 I5 J5 K5', 'blue_initial_vision': 'M1 M2 M3 M4 M5 M6 M7 N1 N2 N3 N4 N5 N6 N7', 'odd_col_minus_even': 1}\n"
     ]
    },
    {
     "data": {
      "text/plain": [
       "(1, 1)"
      ]
     },
     "execution_count": 5,
     "metadata": {},
     "output_type": "execute_result"
    }
   ],
   "source": [
    "# import sys\n",
    "# sys.path.append(\"utils\")\n",
    "import utils.constants as Constants\n",
    "import importlib\n",
    "importlib.reload(Constants)\n",
    "Constants.coordinate_to_tuple(\"A1\")"
   ]
  },
  {
   "cell_type": "code",
   "execution_count": null,
   "metadata": {},
   "outputs": [],
   "source": [
    "a = Constants.DictAttr()\n",
    "a[(1,2)]=3\n"
   ]
  },
  {
   "cell_type": "code",
   "execution_count": 3,
   "metadata": {},
   "outputs": [],
   "source": [
    "import os\n",
    "os.getcwd()\n",
    "os.chdir(r\"C:\\SYZ_folder\\codes\\git_program\\BattleSimulatorX\")"
   ]
  }
 ],
 "metadata": {
  "kernelspec": {
   "display_name": "Excelerate_backend",
   "language": "python",
   "name": "python3"
  },
  "language_info": {
   "codemirror_mode": {
    "name": "ipython",
    "version": 3
   },
   "file_extension": ".py",
   "mimetype": "text/x-python",
   "name": "python",
   "nbconvert_exporter": "python",
   "pygments_lexer": "ipython3",
   "version": "3.12.2"
  }
 },
 "nbformat": 4,
 "nbformat_minor": 2
}
